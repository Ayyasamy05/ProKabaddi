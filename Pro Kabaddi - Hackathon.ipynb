{
 "cells": [
  {
   "cell_type": "code",
   "execution_count": 1,
   "metadata": {},
   "outputs": [],
   "source": [
    "#Importing numpy and pandas libraries\n",
    "import numpy as np\n",
    "import pandas as pd\n",
    "import seaborn as sns\n",
    "import matplotlib.pyplot as plt"
   ]
  },
  {
   "cell_type": "code",
   "execution_count": 2,
   "metadata": {},
   "outputs": [],
   "source": [
    "# Importing input files\n",
    "# The data is gathered from https://www.prokabaddi.com/stats and https://www.sportskeeda.com/go/pro-kabaddi/stats\n",
    "# The data is gathered manually and not by web scraping methods\n",
    "# Only data related with season 7 pro kabaddi league is used for predictions\n",
    "# Schedule.csv           - This file contains the entire season 7 schedule with winners, unfinished matches will not have winner\n",
    "# Playoff.csv            - This file contains the details of playoff matches schedule\n",
    "# Raid_Points.csv        - Raid points of each team\n",
    "# Tackle_Points.csv      - Tackling points of each team\n",
    "# Super Raids.csv        - Super raids of each team\n",
    "# Super Tackles.csv      - Super tackles of each team\n",
    "# All-outs inflicted.csv - All-outs inflicted by each team\n",
    "# All-outs conceded.csv  - All-outs conceded by each team\n",
    "# Raider details.csv     - Top10 raider details about total raids and successful raids\n",
    "# Tackler details.csv    - Top10 tackler details about total tackles and successful tackles\n",
    "\n",
    "df1 = pd.read_csv('Schedule.csv')  \n",
    "playoff = pd.read_csv('Playoff.csv')\n",
    "r1 = pd.read_csv('Raid_Points.csv')\n",
    "r5 = pd.read_csv('Tackle_Points.csv')\n",
    "r9 = pd.read_csv('Super Raids.csv')\n",
    "r10 = pd.read_csv('Super Tackles.csv')\n",
    "r11 = pd.read_csv('All-outs inflicted.csv')\n",
    "r12 = pd.read_csv('All-outs conceded.csv')\n",
    "r21 = pd.read_csv('Raider details.csv')\n",
    "r23 = pd.read_csv('Tackler details.csv')"
   ]
  },
  {
   "cell_type": "code",
   "execution_count": 3,
   "metadata": {},
   "outputs": [],
   "source": [
    "#Predict the top team in the points table after the completion of the league matches\n",
    "#Sorting the file based on teams for a better view\n",
    "df1_sort = df1.sort_values(['Team 1','Team 2'],ascending=True)\n",
    "df1_sort['team1team2'] = df1_sort['Team 1'] + df1_sort['Team 2']\n",
    "df1_sort['team2team1'] = df1_sort['Team 2'] + df1_sort['Team 1']"
   ]
  },
  {
   "cell_type": "code",
   "execution_count": 4,
   "metadata": {},
   "outputs": [],
   "source": [
    "#Splitting the schedule file into completed matches, non completed matches\n",
    "df2 = df1_sort.loc[pd.isna(df1_sort[\"Winner\"]), :]\n",
    "df3 = df1_sort.loc[~(pd.isna(df1_sort[\"Winner\"])), :]"
   ]
  },
  {
   "cell_type": "markdown",
   "metadata": {},
   "source": [
    "### The below logic is to predict the outcome of upcoming matches based on earlier results in season 7."
   ]
  },
  {
   "cell_type": "code",
   "execution_count": 5,
   "metadata": {},
   "outputs": [],
   "source": [
    "for i in df2['team1team2'].index:\n",
    "    k = df2.at[i,'team1team2']\n",
    "    for j in df3['team1team2'].index:\n",
    "        l = df3.at[j,'team1team2']\n",
    "        if k == l:\n",
    "            df2.at[i,'Winner'] = df3.at[j,'Winner']\n",
    "            \n",
    "for i in df2['team1team2'].index:\n",
    "    for j in df3['team2team1'].index:\n",
    "        k = df2.at[i,'team1team2']\n",
    "        l = df3.at[j,'team2team1']\n",
    "        if k == l:\n",
    "                df2.at[i,'Winner'] = df3.at[j,'Winner']"
   ]
  },
  {
   "cell_type": "markdown",
   "metadata": {},
   "source": [
    "### Combining both the files into single file. Now this combined file will have full schedule with results"
   ]
  },
  {
   "cell_type": "code",
   "execution_count": 6,
   "metadata": {},
   "outputs": [],
   "source": [
    "df4 = df3.append(df2)"
   ]
  },
  {
   "cell_type": "code",
   "execution_count": 7,
   "metadata": {},
   "outputs": [],
   "source": [
    "df4_sort = df4.sort_values(['Team 1','Team 2'],ascending=True)"
   ]
  },
  {
   "cell_type": "markdown",
   "metadata": {},
   "source": [
    "### Calculating number of wins by each Team "
   ]
  },
  {
   "cell_type": "code",
   "execution_count": 8,
   "metadata": {},
   "outputs": [],
   "source": [
    "for i in df4_sort['Winner'].index:\n",
    "    k = df4_sort.at[i,'Winner']\n",
    "    l = df4_sort.at[i,'Team 1']\n",
    "    if k == l:\n",
    "        df4_sort.at[i,'Team1 win'] = 1\n",
    "        df4_sort.at[i,'Team2 win'] = 0\n",
    "    elif k == 'Draw':\n",
    "        df4_sort.at[i,'Team1 win'] = 0.5\n",
    "        df4_sort.at[i,'Team2 win'] = 0.5\n",
    "    else:\n",
    "        df4_sort.at[i,'Team2 win'] = 1\n",
    "        df4_sort.at[i,'Team1 win'] = 0\n",
    "            "
   ]
  },
  {
   "cell_type": "code",
   "execution_count": 9,
   "metadata": {},
   "outputs": [],
   "source": [
    "df5 = df4_sort[['Team 1','Team1 win']]\n",
    "df6 = df4_sort[['Team 2','Team2 win']]"
   ]
  },
  {
   "cell_type": "code",
   "execution_count": 10,
   "metadata": {},
   "outputs": [],
   "source": [
    "df7 = df5.groupby('Team 1').sum()[['Team1 win']]\n",
    "df8 = df6.groupby('Team 2').sum()[['Team2 win']]"
   ]
  },
  {
   "cell_type": "code",
   "execution_count": 11,
   "metadata": {},
   "outputs": [],
   "source": [
    "df7 = df7.reset_index()\n",
    "df8 = df8.reset_index()\n",
    "df7.rename(columns = {'Team 1':'Team','Team1 win':'points'},inplace=True)\n",
    "df8.rename(columns = {'Team 2':'Team','Team2 win':'points'},inplace=True)\n",
    "df9 = pd.merge(df7,df8,on='Team',how='outer')"
   ]
  },
  {
   "cell_type": "code",
   "execution_count": 12,
   "metadata": {},
   "outputs": [],
   "source": [
    "df9['points_x'].fillna(0, inplace=True)\n",
    "df9['points_y'].fillna(0, inplace=True)"
   ]
  },
  {
   "cell_type": "code",
   "execution_count": 13,
   "metadata": {},
   "outputs": [],
   "source": [
    "df9['Points'] = df9['points_x'] + df9['points_y']"
   ]
  },
  {
   "cell_type": "code",
   "execution_count": 14,
   "metadata": {},
   "outputs": [],
   "source": [
    "df10 = df9[['Team','Points']]\n",
    "df11 = df10.sort_values('Points',ascending=False)\n",
    "df12 = df11.reset_index()\n",
    "del df12['index']"
   ]
  },
  {
   "cell_type": "code",
   "execution_count": 15,
   "metadata": {},
   "outputs": [
    {
     "data": {
      "text/html": [
       "<div>\n",
       "<style scoped>\n",
       "    .dataframe tbody tr th:only-of-type {\n",
       "        vertical-align: middle;\n",
       "    }\n",
       "\n",
       "    .dataframe tbody tr th {\n",
       "        vertical-align: top;\n",
       "    }\n",
       "\n",
       "    .dataframe thead th {\n",
       "        text-align: right;\n",
       "    }\n",
       "</style>\n",
       "<table border=\"1\" class=\"dataframe\">\n",
       "  <thead>\n",
       "    <tr style=\"text-align: right;\">\n",
       "      <th></th>\n",
       "      <th>Team</th>\n",
       "      <th>Points</th>\n",
       "    </tr>\n",
       "  </thead>\n",
       "  <tbody>\n",
       "    <tr>\n",
       "      <th>0</th>\n",
       "      <td>Dabang Delhi K.C.</td>\n",
       "      <td>17.5</td>\n",
       "    </tr>\n",
       "    <tr>\n",
       "      <th>1</th>\n",
       "      <td>Bengal Warriors</td>\n",
       "      <td>16.0</td>\n",
       "    </tr>\n",
       "    <tr>\n",
       "      <th>2</th>\n",
       "      <td>Haryana Steelers</td>\n",
       "      <td>15.5</td>\n",
       "    </tr>\n",
       "    <tr>\n",
       "      <th>3</th>\n",
       "      <td>U.P. Yoddha</td>\n",
       "      <td>12.5</td>\n",
       "    </tr>\n",
       "    <tr>\n",
       "      <th>4</th>\n",
       "      <td>Bengaluru Bulls</td>\n",
       "      <td>11.5</td>\n",
       "    </tr>\n",
       "    <tr>\n",
       "      <th>5</th>\n",
       "      <td>U Mumba</td>\n",
       "      <td>11.5</td>\n",
       "    </tr>\n",
       "    <tr>\n",
       "      <th>6</th>\n",
       "      <td>Jaipur Pink Panthers</td>\n",
       "      <td>10.0</td>\n",
       "    </tr>\n",
       "    <tr>\n",
       "      <th>7</th>\n",
       "      <td>Telugu Titans</td>\n",
       "      <td>9.0</td>\n",
       "    </tr>\n",
       "    <tr>\n",
       "      <th>8</th>\n",
       "      <td>Puneri Paltan</td>\n",
       "      <td>8.5</td>\n",
       "    </tr>\n",
       "    <tr>\n",
       "      <th>9</th>\n",
       "      <td>Patna Pirates</td>\n",
       "      <td>7.5</td>\n",
       "    </tr>\n",
       "    <tr>\n",
       "      <th>10</th>\n",
       "      <td>Gujarat Fortune Giants</td>\n",
       "      <td>7.0</td>\n",
       "    </tr>\n",
       "    <tr>\n",
       "      <th>11</th>\n",
       "      <td>Tamil Thalaivas</td>\n",
       "      <td>5.5</td>\n",
       "    </tr>\n",
       "  </tbody>\n",
       "</table>\n",
       "</div>"
      ],
      "text/plain": [
       "                      Team  Points\n",
       "0        Dabang Delhi K.C.    17.5\n",
       "1          Bengal Warriors    16.0\n",
       "2         Haryana Steelers    15.5\n",
       "3              U.P. Yoddha    12.5\n",
       "4          Bengaluru Bulls    11.5\n",
       "5                  U Mumba    11.5\n",
       "6     Jaipur Pink Panthers    10.0\n",
       "7            Telugu Titans     9.0\n",
       "8            Puneri Paltan     8.5\n",
       "9            Patna Pirates     7.5\n",
       "10  Gujarat Fortune Giants     7.0\n",
       "11         Tamil Thalaivas     5.5"
      ]
     },
     "execution_count": 15,
     "metadata": {},
     "output_type": "execute_result"
    }
   ],
   "source": [
    "#The dataframe df12 have the Team name and their respective win count\n",
    "df12"
   ]
  },
  {
   "cell_type": "code",
   "execution_count": 16,
   "metadata": {},
   "outputs": [
    {
     "data": {
      "image/png": "[encoded data removed]",
      "text/plain": [
       "<Figure size 1600x800 with 1 Axes>"
      ]
     },
     "metadata": {},
     "output_type": "display_data"
    }
   ],
   "source": [
    "plt.figure(num=None, figsize=(20, 10), dpi=80, facecolor='w', edgecolor='k')\n",
    "plt.bar(df12['Team'], df12['Points'])\n",
    "plt.xticks(rotation='vertical')\n",
    "plt.title('Predicted Team winning count at end of league matches')\n",
    "plt.xlabel('Teams')\n",
    "plt.ylabel('Points')\n",
    "plt.show()"
   ]
  },
  {
   "cell_type": "code",
   "execution_count": 17,
   "metadata": {},
   "outputs": [
    {
     "data": {
      "text/plain": [
       "'Dabang Delhi K.C.'"
      ]
     },
     "execution_count": 17,
     "metadata": {},
     "output_type": "execute_result"
    }
   ],
   "source": [
    "#Identifying top ranked team at completion of league matches\n",
    "df12.at[0,'Team']"
   ]
  },
  {
   "cell_type": "markdown",
   "metadata": {},
   "source": [
    "# Dabang Delhi K.C. is the table topper"
   ]
  },
  {
   "cell_type": "code",
   "execution_count": 18,
   "metadata": {},
   "outputs": [
    {
     "name": "stderr",
     "output_type": "stream",
     "text": [
      "C:\\Users\\HP\\Anaconda3\\lib\\site-packages\\ipykernel_launcher.py:6: SettingWithCopyWarning: \n",
      "A value is trying to be set on a copy of a slice from a DataFrame.\n",
      "Try using .loc[row_indexer,col_indexer] = value instead\n",
      "\n",
      "See the caveats in the documentation: http://pandas.pydata.org/pandas-docs/stable/indexing.html#indexing-view-versus-copy\n",
      "  \n"
     ]
    }
   ],
   "source": [
    "#Predict the winner of the tournament\n",
    "df12['Matches'] = 22\n",
    "df12['Rank'] = range(1,13)\n",
    "df12 = df12.reindex(columns=['Rank','Team','Matches','Points'])\n",
    "top6 = df12.head(6)\n",
    "top6['Level'] = 'l' + top6['Rank'].map(str)  \n",
    "p1 = playoff.apply(lambda x: x.astype(str).str.lower())"
   ]
  },
  {
   "cell_type": "markdown",
   "metadata": {},
   "source": [
    "## Replacing team names in playoff time table based on the predicted ranking table"
   ]
  },
  {
   "cell_type": "code",
   "execution_count": 19,
   "metadata": {},
   "outputs": [],
   "source": [
    "for i in p1['Team 1'].index:\n",
    "    k = p1.at[i,'Team 1']\n",
    "    for j in top6['Level'].index:\n",
    "        l = top6.at[j,'Level']\n",
    "        if k == l:\n",
    "            p1.at[i,'Team 1'] = top6.at[j,'Team']"
   ]
  },
  {
   "cell_type": "code",
   "execution_count": 20,
   "metadata": {},
   "outputs": [],
   "source": [
    "for i in p1['Team 2'].index:\n",
    "    k = p1.at[i,'Team 2']\n",
    "    for j in top6['Level'].index:\n",
    "        l = top6.at[j,'Level']\n",
    "        if k == l:\n",
    "            p1.at[i,'Team 2'] = top6.at[j,'Team']"
   ]
  },
  {
   "cell_type": "code",
   "execution_count": 21,
   "metadata": {},
   "outputs": [],
   "source": [
    "p1['team1team2'] = p1['Team 1'] + p1['Team 2']\n",
    "p1['team2team1'] = p1['Team 2'] + p1['Team 1']"
   ]
  },
  {
   "cell_type": "code",
   "execution_count": 22,
   "metadata": {},
   "outputs": [],
   "source": [
    "p1['Team 1 count'] = 0\n",
    "p1['Team 2 count'] = 0\n",
    "p1['Team 1 points'] = 0\n",
    "p1['Team 2 points'] = 0\n",
    "df101 = df4_sort\n",
    "df101['Team 1 points'].fillna(0, inplace=True)\n",
    "df101['Team 2 points'].fillna(0, inplace=True)\n",
    "for i in p1['team1team2'].index:\n",
    "    k = p1.at[i,'team1team2']\n",
    "    team1 = p1.at[i,'Team 1']\n",
    "    team2 = p1.at[i,'Team 2']\n",
    "    for j in df101['team1team2'].index:\n",
    "        l = df101.at[j,'team1team2']\n",
    "        if k == l:\n",
    "            winner = df101.at[j,'Winner']\n",
    "            p1.at[i,'Team 1 points'] += df101.at[j,'Team 1 points']\n",
    "            p1.at[i,'Team 2 points'] += df101.at[j,'Team 2 points']\n",
    "            if team1 == winner:\n",
    "                p1.at[i,'Team 1 count'] += 1\n",
    "            elif team2 == winner:\n",
    "                p1.at[i,'Team 2 count'] += 1\n",
    "            else:\n",
    "                p1.at[i,'Team 1 count'] += .5\n",
    "                p1.at[i,'Team 2 count'] += .5"
   ]
  },
  {
   "cell_type": "code",
   "execution_count": 23,
   "metadata": {},
   "outputs": [],
   "source": [
    "for i in p1['team2team1'].index:\n",
    "    k = p1.at[i,'team2team1']\n",
    "    team1 = p1.at[i,'Team 1']\n",
    "    team2 = p1.at[i,'Team 2']\n",
    "    for j in df101['team1team2'].index:\n",
    "        l = df101.at[j,'team1team2']\n",
    "        if k == l:\n",
    "            winner = df101.at[j,'Winner']\n",
    "            p1.at[i,'Team 1 points'] += df101.at[j,'Team 2 points']\n",
    "            p1.at[i,'Team 2 points'] += df101.at[j,'Team 1 points']\n",
    "            if team1 == winner:\n",
    "                p1.at[i,'Team 1 count'] += 1\n",
    "            elif team2 == winner:\n",
    "                p1.at[i,'Team 2 count'] += 1\n",
    "            else:\n",
    "                p1.at[i,'Team 1 count'] += .5\n",
    "                p1.at[i,'Team 2 count'] += .5"
   ]
  },
  {
   "cell_type": "code",
   "execution_count": 24,
   "metadata": {},
   "outputs": [
    {
     "name": "stdout",
     "output_type": "stream",
     "text": [
      "Not predicted\n",
      "Not predicted\n",
      "Not predicted\n"
     ]
    }
   ],
   "source": [
    "p2 = p1\n",
    "for i in p1['Team 1 count'].index:\n",
    "    winner = p1.at[i,'Winner']\n",
    "    team1 = p1.at[i,'Team 1']\n",
    "    team2 = p1.at[i,'Team 2']\n",
    "    t1cnt = p1.at[i,'Team 1 count']\n",
    "    t2cnt = p1.at[i,'Team 2 count']\n",
    "    t1pts = p1.at[i,'Team 1 points']\n",
    "    t2pts = p1.at[i,'Team 2 points']\n",
    "    if t1cnt > t2cnt:\n",
    "        p2 = p2.replace(to_replace =winner,value = team1)\n",
    "    elif t2cnt > t1cnt:\n",
    "        p2 = p2.replace(to_replace =winner,value = team2)\n",
    "    elif t1pts > t2pts:\n",
    "        p2 = p2.replace(to_replace =winner,value = team1)\n",
    "    elif t2pts < t1pts:\n",
    "        p2 = p2.replace(to_replace =winner,value = team2)\n",
    "    else:\n",
    "        print('Not predicted')"
   ]
  },
  {
   "cell_type": "code",
   "execution_count": 25,
   "metadata": {},
   "outputs": [],
   "source": [
    "p2['team1team2'] = p2['Team 1'] + p2['Team 2']\n",
    "p2['team2team1'] = p2['Team 2'] + p2['Team 1']"
   ]
  },
  {
   "cell_type": "code",
   "execution_count": 26,
   "metadata": {},
   "outputs": [],
   "source": [
    "for i in p2['team1team2'].index:\n",
    "    k = p2.at[i,'team1team2']\n",
    "    team1 = p2.at[i,'Team 1']\n",
    "    team2 = p2.at[i,'Team 2']\n",
    "    w1 = p2.at[i,'Winner']\n",
    "    #if w1 == 's1' | w1 == 's2':\n",
    "    for j in df101['team1team2'].index:\n",
    "        l = df101.at[j,'team1team2']\n",
    "        if (k == l and (w1 == 's1' or w1 == 's2')):\n",
    "\n",
    "            winner = df101.at[j,'Winner']\n",
    "            p2.at[i,'Team 1 points'] += df101.at[j,'Team 1 points']\n",
    "            p2.at[i,'Team 2 points'] += df101.at[j,'Team 2 points']\n",
    "            if team1 == winner:\n",
    "                p2.at[i,'Team 1 count'] += 1\n",
    "            elif team2 == winner:\n",
    "                p2.at[i,'Team 2 count'] += 1\n",
    "            else:\n",
    "                p2.at[i,'Team 1 count'] += .5\n",
    "                p2.at[i,'Team 2 count'] += .5\n"
   ]
  },
  {
   "cell_type": "code",
   "execution_count": 27,
   "metadata": {},
   "outputs": [],
   "source": [
    "for i in p2['team2team1'].index:\n",
    "    k = p2.at[i,'team2team1']\n",
    "    team1 = p2.at[i,'Team 1']\n",
    "    team2 = p2.at[i,'Team 2']\n",
    "    w1 = p2.at[i,'Winner']\n",
    "    for j in df101['team1team2'].index:\n",
    "        l = df101.at[j,'team1team2']\n",
    "        if (k == l and (w1 == 's1' or w1 == 's2')):\n",
    "            winner = df101.at[j,'Winner']\n",
    "            p2.at[i,'Team 1 points'] += df101.at[j,'Team 2 points']\n",
    "            p2.at[i,'Team 2 points'] += df101.at[j,'Team 1 points']\n",
    "            if team1 == winner:\n",
    "                p2.at[i,'Team 1 count'] += 1\n",
    "            elif team2 == winner:\n",
    "                p2.at[i,'Team 2 count'] += 1\n",
    "            else:\n",
    "                p2.at[i,'Team 1 count'] += .5\n",
    "                p2.at[i,'Team 2 count'] += .5"
   ]
  },
  {
   "cell_type": "code",
   "execution_count": 28,
   "metadata": {},
   "outputs": [],
   "source": [
    "p3 = p2\n",
    "for i in p2['Team 1 count'].index:\n",
    "    winner = p2.at[i,'Winner']\n",
    "    team1 = p2.at[i,'Team 1']\n",
    "    team2 = p2.at[i,'Team 2']\n",
    "    t1cnt = p2.at[i,'Team 1 count']\n",
    "    t2cnt = p2.at[i,'Team 2 count']\n",
    "    t1pts = p2.at[i,'Team 1 points']\n",
    "    t2pts = p2.at[i,'Team 2 points']\n",
    "    if (winner == 's1' or winner == 's2'):\n",
    "        if t1cnt > t2cnt:\n",
    "        #p2.at[i,'Winner'] = team1\n",
    "            p3 = p3.replace(to_replace =winner,value = team1)\n",
    "        elif t2cnt > t1cnt:\n",
    "        #p2.at[i,'Winner'] = team2\n",
    "            p3 = p3.replace(to_replace =winner,value = team2)\n",
    "        elif t1pts > t2pts:\n",
    "        #p2.at[i,'Winner'] = team1\n",
    "            p3 = p3.replace(to_replace =winner,value = team1)\n",
    "        elif t2pts > t1pts:\n",
    "        #p2.at[i,'Winner'] = team2\n",
    "            p3 = p3.replace(to_replace =winner,value = team2)\n",
    "        else:\n",
    "            print('Not predicted')"
   ]
  },
  {
   "cell_type": "code",
   "execution_count": 29,
   "metadata": {},
   "outputs": [],
   "source": [
    "p3['team1team2'] = p3['Team 1'] + p3['Team 2']\n",
    "p3['team2team1'] = p3['Team 2'] + p3['Team 1']\n",
    "\n",
    "\n",
    "for i in p3['team1team2'].index:\n",
    "    k = p3.at[i,'team1team2']\n",
    "    team1 = p3.at[i,'Team 1']\n",
    "    team2 = p3.at[i,'Team 2']\n",
    "    w1 = p3.at[i,'Winner']\n",
    "    #if w1 == 's1' | w1 == 's2':\n",
    "    for j in df101['team1team2'].index:\n",
    "        l = df101.at[j,'team1team2']\n",
    "        if (k == l and (w1 == 'f')):\n",
    "\n",
    "            winner = df101.at[j,'Winner']\n",
    "            p3.at[i,'Team 1 points'] += df101.at[j,'Team 1 points']\n",
    "            p3.at[i,'Team 2 points'] += df101.at[j,'Team 2 points']\n",
    "            if team1 == winner:\n",
    "                p3.at[i,'Team 1 count'] += 1\n",
    "            elif team2 == winner:\n",
    "                p3.at[i,'Team 2 count'] += 1\n",
    "            else:\n",
    "                p3.at[i,'Team 1 count'] += .5\n",
    "                p3.at[i,'Team 2 count'] += .5\n",
    "for i in p3['team2team1'].index:\n",
    "    k = p3.at[i,'team2team1']\n",
    "    team1 = p3.at[i,'Team 1']\n",
    "    team2 = p3.at[i,'Team 2']\n",
    "    w1 = p3.at[i,'Winner']\n",
    "    for j in df101['team1team2'].index:\n",
    "        l = df101.at[j,'team1team2']\n",
    "        if (k == l and (w1 == 'f')):\n",
    "            winner = df101.at[j,'Winner']\n",
    "            p3.at[i,'Team 1 points'] += df101.at[j,'Team 2 points']\n",
    "            p3.at[i,'Team 2 points'] += df101.at[j,'Team 1 points']\n",
    "            if team1 == winner:\n",
    "                p3.at[i,'Team 1 count'] += 1\n",
    "            elif team2 == winner:\n",
    "                p3.at[i,'Team 2 count'] += 1\n",
    "            else:\n",
    "                p3.at[i,'Team 1 count'] += .5\n",
    "                p3.at[i,'Team 2 count'] += .5\n",
    "\n",
    "\n"
   ]
  },
  {
   "cell_type": "code",
   "execution_count": 30,
   "metadata": {},
   "outputs": [],
   "source": [
    "p4 = p3\n",
    "for i in p3['Team 1 count'].index:\n",
    "    winner = p3.at[i,'Winner']\n",
    "    team1 = p3.at[i,'Team 1']\n",
    "    team2 = p3.at[i,'Team 2']\n",
    "    t1cnt = p3.at[i,'Team 1 count']\n",
    "    t2cnt = p3.at[i,'Team 2 count']\n",
    "    t1pts = p3.at[i,'Team 1 points']\n",
    "    t2pts = p3.at[i,'Team 2 points']\n",
    "    if (winner == 'f'):\n",
    "        if t1cnt > t2cnt:\n",
    "        #p3.at[i,'Winner'] = team1\n",
    "            p4 = p4.replace(to_replace =winner,value = team1)\n",
    "        elif t2cnt > t1cnt:\n",
    "        #p3.at[i,'Winner'] = team2\n",
    "            p4 = p4.replace(to_replace =winner,value = team2)\n",
    "        elif t1pts > t2pts:\n",
    "        #p3.at[i,'Winner'] = team1\n",
    "            p4 = p4.replace(to_replace =winner,value = team1)\n",
    "        elif t2pts > t1pts:\n",
    "        #p3.at[i,'Winner'] = team2\n",
    "            p4 = p4.replace(to_replace =winner,value = team2)\n",
    "        else:\n",
    "            print('Not predicted')"
   ]
  },
  {
   "cell_type": "code",
   "execution_count": 31,
   "metadata": {},
   "outputs": [
    {
     "data": {
      "text/html": [
       "<div>\n",
       "<style scoped>\n",
       "    .dataframe tbody tr th:only-of-type {\n",
       "        vertical-align: middle;\n",
       "    }\n",
       "\n",
       "    .dataframe tbody tr th {\n",
       "        vertical-align: top;\n",
       "    }\n",
       "\n",
       "    .dataframe thead th {\n",
       "        text-align: right;\n",
       "    }\n",
       "</style>\n",
       "<table border=\"1\" class=\"dataframe\">\n",
       "  <thead>\n",
       "    <tr style=\"text-align: right;\">\n",
       "      <th></th>\n",
       "      <th>Team 1</th>\n",
       "      <th>Team 2</th>\n",
       "      <th>Winner</th>\n",
       "      <th>team1team2</th>\n",
       "      <th>team2team1</th>\n",
       "      <th>Team 1 count</th>\n",
       "      <th>Team 2 count</th>\n",
       "      <th>Team 1 points</th>\n",
       "      <th>Team 2 points</th>\n",
       "    </tr>\n",
       "  </thead>\n",
       "  <tbody>\n",
       "    <tr>\n",
       "      <th>0</th>\n",
       "      <td>Haryana Steelers</td>\n",
       "      <td>U Mumba</td>\n",
       "      <td>Haryana Steelers</td>\n",
       "      <td>Haryana SteelersU Mumba</td>\n",
       "      <td>U MumbaHaryana Steelers</td>\n",
       "      <td>2</td>\n",
       "      <td>0</td>\n",
       "      <td>30</td>\n",
       "      <td>27</td>\n",
       "    </tr>\n",
       "    <tr>\n",
       "      <th>1</th>\n",
       "      <td>U.P. Yoddha</td>\n",
       "      <td>Bengaluru Bulls</td>\n",
       "      <td>U.P. Yoddha</td>\n",
       "      <td>U.P. YoddhaBengaluru Bulls</td>\n",
       "      <td>Bengaluru BullsU.P. Yoddha</td>\n",
       "      <td>2</td>\n",
       "      <td>0</td>\n",
       "      <td>35</td>\n",
       "      <td>33</td>\n",
       "    </tr>\n",
       "    <tr>\n",
       "      <th>2</th>\n",
       "      <td>Dabang Delhi K.C.</td>\n",
       "      <td>Haryana Steelers</td>\n",
       "      <td>Haryana Steelers</td>\n",
       "      <td>Dabang Delhi K.C.Haryana Steelers</td>\n",
       "      <td>Haryana SteelersDabang Delhi K.C.</td>\n",
       "      <td>1</td>\n",
       "      <td>1</td>\n",
       "      <td>66</td>\n",
       "      <td>68</td>\n",
       "    </tr>\n",
       "    <tr>\n",
       "      <th>3</th>\n",
       "      <td>Bengal Warriors</td>\n",
       "      <td>U.P. Yoddha</td>\n",
       "      <td>Bengal Warriors</td>\n",
       "      <td>Bengal WarriorsU.P. Yoddha</td>\n",
       "      <td>U.P. YoddhaBengal Warriors</td>\n",
       "      <td>1</td>\n",
       "      <td>1</td>\n",
       "      <td>77</td>\n",
       "      <td>49</td>\n",
       "    </tr>\n",
       "    <tr>\n",
       "      <th>4</th>\n",
       "      <td>Haryana Steelers</td>\n",
       "      <td>Bengal Warriors</td>\n",
       "      <td>Bengal Warriors</td>\n",
       "      <td>Haryana SteelersBengal Warriors</td>\n",
       "      <td>Bengal WarriorsHaryana Steelers</td>\n",
       "      <td>1</td>\n",
       "      <td>1</td>\n",
       "      <td>72</td>\n",
       "      <td>81</td>\n",
       "    </tr>\n",
       "  </tbody>\n",
       "</table>\n",
       "</div>"
      ],
      "text/plain": [
       "              Team 1            Team 2            Winner  \\\n",
       "0   Haryana Steelers           U Mumba  Haryana Steelers   \n",
       "1        U.P. Yoddha   Bengaluru Bulls       U.P. Yoddha   \n",
       "2  Dabang Delhi K.C.  Haryana Steelers  Haryana Steelers   \n",
       "3    Bengal Warriors       U.P. Yoddha   Bengal Warriors   \n",
       "4   Haryana Steelers   Bengal Warriors   Bengal Warriors   \n",
       "\n",
       "                          team1team2                         team2team1  \\\n",
       "0            Haryana SteelersU Mumba            U MumbaHaryana Steelers   \n",
       "1         U.P. YoddhaBengaluru Bulls         Bengaluru BullsU.P. Yoddha   \n",
       "2  Dabang Delhi K.C.Haryana Steelers  Haryana SteelersDabang Delhi K.C.   \n",
       "3         Bengal WarriorsU.P. Yoddha         U.P. YoddhaBengal Warriors   \n",
       "4    Haryana SteelersBengal Warriors    Bengal WarriorsHaryana Steelers   \n",
       "\n",
       "   Team 1 count  Team 2 count  Team 1 points  Team 2 points  \n",
       "0             2             0             30             27  \n",
       "1             2             0             35             33  \n",
       "2             1             1             66             68  \n",
       "3             1             1             77             49  \n",
       "4             1             1             72             81  "
      ]
     },
     "execution_count": 31,
     "metadata": {},
     "output_type": "execute_result"
    }
   ],
   "source": [
    "p4"
   ]
  },
  {
   "cell_type": "code",
   "execution_count": 32,
   "metadata": {},
   "outputs": [
    {
     "data": {
      "text/plain": [
       "'Bengal Warriors'"
      ]
     },
     "execution_count": 32,
     "metadata": {},
     "output_type": "execute_result"
    }
   ],
   "source": [
    "#Identifying Winner of the tournment\n",
    "p4.at[4,'Winner']"
   ]
  },
  {
   "cell_type": "markdown",
   "metadata": {},
   "source": [
    "# Bengal Warriors is the winner of this tournement"
   ]
  },
  {
   "cell_type": "code",
   "execution_count": 33,
   "metadata": {},
   "outputs": [],
   "source": [
    "#Predict the team with the highest points for successful raids.\n",
    "\n",
    "#Finding number of matches will be played by each team\n",
    "p5 = p4[['Team 1','Team 2']]\n",
    "def count_word(word):\n",
    "    cnt = sum([p5[x].str.count(word).sum() for x in p5.columns])\n",
    "    return cnt\n",
    "k = 0\n",
    "p6 = pd.DataFrame()\n",
    "for i in p5.columns:\n",
    "    for j in p5.index:\n",
    "        word = p5.at[j,i]\n",
    "        cnt1 = count_word(word)\n",
    "        k +=1\n",
    "        p6.at[k,'Team'] = word\n",
    "        p6.at[k,'count'] = cnt1"
   ]
  },
  {
   "cell_type": "code",
   "execution_count": 34,
   "metadata": {},
   "outputs": [],
   "source": [
    "p6.drop_duplicates(subset=None,keep='first',inplace=True)\n",
    "pf12 = df12\n",
    "for i in p6.index:\n",
    "    for j in pf12.index:\n",
    "        if p6.at[i,'Team'] == pf12.at[j,'Team']:\n",
    "            pf12.at[j,'Matches'] += p6.at[i,'count']"
   ]
  },
  {
   "cell_type": "code",
   "execution_count": 35,
   "metadata": {},
   "outputs": [
    {
     "data": {
      "text/html": [
       "<div>\n",
       "<style scoped>\n",
       "    .dataframe tbody tr th:only-of-type {\n",
       "        vertical-align: middle;\n",
       "    }\n",
       "\n",
       "    .dataframe tbody tr th {\n",
       "        vertical-align: top;\n",
       "    }\n",
       "\n",
       "    .dataframe thead th {\n",
       "        text-align: right;\n",
       "    }\n",
       "</style>\n",
       "<table border=\"1\" class=\"dataframe\">\n",
       "  <thead>\n",
       "    <tr style=\"text-align: right;\">\n",
       "      <th></th>\n",
       "      <th>Rank</th>\n",
       "      <th>Team</th>\n",
       "      <th>Matches</th>\n",
       "      <th>Points</th>\n",
       "    </tr>\n",
       "  </thead>\n",
       "  <tbody>\n",
       "    <tr>\n",
       "      <th>0</th>\n",
       "      <td>1</td>\n",
       "      <td>Dabang Delhi K.C.</td>\n",
       "      <td>23</td>\n",
       "      <td>17.5</td>\n",
       "    </tr>\n",
       "    <tr>\n",
       "      <th>1</th>\n",
       "      <td>2</td>\n",
       "      <td>Bengal Warriors</td>\n",
       "      <td>24</td>\n",
       "      <td>16.0</td>\n",
       "    </tr>\n",
       "    <tr>\n",
       "      <th>2</th>\n",
       "      <td>3</td>\n",
       "      <td>Haryana Steelers</td>\n",
       "      <td>25</td>\n",
       "      <td>15.5</td>\n",
       "    </tr>\n",
       "    <tr>\n",
       "      <th>3</th>\n",
       "      <td>4</td>\n",
       "      <td>U.P. Yoddha</td>\n",
       "      <td>24</td>\n",
       "      <td>12.5</td>\n",
       "    </tr>\n",
       "    <tr>\n",
       "      <th>4</th>\n",
       "      <td>5</td>\n",
       "      <td>Bengaluru Bulls</td>\n",
       "      <td>23</td>\n",
       "      <td>11.5</td>\n",
       "    </tr>\n",
       "    <tr>\n",
       "      <th>5</th>\n",
       "      <td>6</td>\n",
       "      <td>U Mumba</td>\n",
       "      <td>23</td>\n",
       "      <td>11.5</td>\n",
       "    </tr>\n",
       "    <tr>\n",
       "      <th>6</th>\n",
       "      <td>7</td>\n",
       "      <td>Jaipur Pink Panthers</td>\n",
       "      <td>22</td>\n",
       "      <td>10.0</td>\n",
       "    </tr>\n",
       "    <tr>\n",
       "      <th>7</th>\n",
       "      <td>8</td>\n",
       "      <td>Telugu Titans</td>\n",
       "      <td>22</td>\n",
       "      <td>9.0</td>\n",
       "    </tr>\n",
       "    <tr>\n",
       "      <th>8</th>\n",
       "      <td>9</td>\n",
       "      <td>Puneri Paltan</td>\n",
       "      <td>22</td>\n",
       "      <td>8.5</td>\n",
       "    </tr>\n",
       "    <tr>\n",
       "      <th>9</th>\n",
       "      <td>10</td>\n",
       "      <td>Patna Pirates</td>\n",
       "      <td>22</td>\n",
       "      <td>7.5</td>\n",
       "    </tr>\n",
       "    <tr>\n",
       "      <th>10</th>\n",
       "      <td>11</td>\n",
       "      <td>Gujarat Fortune Giants</td>\n",
       "      <td>22</td>\n",
       "      <td>7.0</td>\n",
       "    </tr>\n",
       "    <tr>\n",
       "      <th>11</th>\n",
       "      <td>12</td>\n",
       "      <td>Tamil Thalaivas</td>\n",
       "      <td>22</td>\n",
       "      <td>5.5</td>\n",
       "    </tr>\n",
       "  </tbody>\n",
       "</table>\n",
       "</div>"
      ],
      "text/plain": [
       "    Rank                    Team  Matches  Points\n",
       "0      1       Dabang Delhi K.C.       23    17.5\n",
       "1      2         Bengal Warriors       24    16.0\n",
       "2      3        Haryana Steelers       25    15.5\n",
       "3      4             U.P. Yoddha       24    12.5\n",
       "4      5         Bengaluru Bulls       23    11.5\n",
       "5      6                 U Mumba       23    11.5\n",
       "6      7    Jaipur Pink Panthers       22    10.0\n",
       "7      8           Telugu Titans       22     9.0\n",
       "8      9           Puneri Paltan       22     8.5\n",
       "9     10           Patna Pirates       22     7.5\n",
       "10    11  Gujarat Fortune Giants       22     7.0\n",
       "11    12         Tamil Thalaivas       22     5.5"
      ]
     },
     "execution_count": 35,
     "metadata": {},
     "output_type": "execute_result"
    }
   ],
   "source": [
    "pf12"
   ]
  },
  {
   "cell_type": "code",
   "execution_count": 36,
   "metadata": {},
   "outputs": [
    {
     "name": "stderr",
     "output_type": "stream",
     "text": [
      "C:\\Users\\HP\\Anaconda3\\lib\\site-packages\\ipykernel_launcher.py:3: SettingWithCopyWarning: \n",
      "A value is trying to be set on a copy of a slice from a DataFrame.\n",
      "Try using .loc[row_indexer,col_indexer] = value instead\n",
      "\n",
      "See the caveats in the documentation: http://pandas.pydata.org/pandas-docs/stable/indexing.html#indexing-view-versus-copy\n",
      "  This is separate from the ipykernel package so we can avoid doing imports until\n",
      "C:\\Users\\HP\\Anaconda3\\lib\\site-packages\\ipykernel_launcher.py:4: SettingWithCopyWarning: \n",
      "A value is trying to be set on a copy of a slice from a DataFrame.\n",
      "Try using .loc[row_indexer,col_indexer] = value instead\n",
      "\n",
      "See the caveats in the documentation: http://pandas.pydata.org/pandas-docs/stable/indexing.html#indexing-view-versus-copy\n",
      "  after removing the cwd from sys.path.\n"
     ]
    }
   ],
   "source": [
    "r2 = pd.merge(pf12,r1,left_on='Team',right_on='Name',how='outer')\n",
    "r3 = r2[['Team','Matches','Matches played','Raid points']]\n",
    "r3['Matches left'] = r3['Matches'] - r3['Matches played']\n",
    "r3['expected raid points'] = (r3['Raid points'] * r3['Matches left']) / r3['Matches played']"
   ]
  },
  {
   "cell_type": "code",
   "execution_count": 37,
   "metadata": {},
   "outputs": [],
   "source": [
    "r3['Total Raid Points'] = r3['Raid points'] + r3['expected raid points']"
   ]
  },
  {
   "cell_type": "code",
   "execution_count": 38,
   "metadata": {},
   "outputs": [],
   "source": [
    "max_raid_pts = r3['Total Raid Points'].max()\n",
    "i = r3[r3['Total Raid Points'] == max_raid_pts].index[0]\n",
    "r4 = r3.at[i,'Team']"
   ]
  },
  {
   "cell_type": "code",
   "execution_count": 39,
   "metadata": {},
   "outputs": [
    {
     "data": {
      "text/plain": [
       "'Bengal Warriors'"
      ]
     },
     "execution_count": 39,
     "metadata": {},
     "output_type": "execute_result"
    }
   ],
   "source": [
    "r4"
   ]
  },
  {
   "cell_type": "code",
   "execution_count": 40,
   "metadata": {},
   "outputs": [
    {
     "data": {
      "image/png": "[encoded data removed]",
      "text/plain": [
       "<Figure size 1600x800 with 1 Axes>"
      ]
     },
     "metadata": {},
     "output_type": "display_data"
    }
   ],
   "source": [
    "plt.figure(num=None, figsize=(20, 10), dpi=80, facecolor='w', edgecolor='k')\n",
    "plt.bar(r3['Team'], r3['Total Raid Points'])\n",
    "plt.xticks(rotation='vertical')\n",
    "plt.title('Prediction of Team with Highest raid points')\n",
    "plt.xlabel('Teams')\n",
    "plt.ylabel('Raid Points')\n",
    "plt.show()"
   ]
  },
  {
   "cell_type": "markdown",
   "metadata": {},
   "source": [
    "# Bengal warriors will score Highest raid points"
   ]
  },
  {
   "cell_type": "code",
   "execution_count": 41,
   "metadata": {},
   "outputs": [],
   "source": [
    "#Predict the team with the highest points for successful tackles. "
   ]
  },
  {
   "cell_type": "code",
   "execution_count": 42,
   "metadata": {},
   "outputs": [
    {
     "name": "stderr",
     "output_type": "stream",
     "text": [
      "C:\\Users\\HP\\Anaconda3\\lib\\site-packages\\ipykernel_launcher.py:5: SettingWithCopyWarning: \n",
      "A value is trying to be set on a copy of a slice from a DataFrame.\n",
      "Try using .loc[row_indexer,col_indexer] = value instead\n",
      "\n",
      "See the caveats in the documentation: http://pandas.pydata.org/pandas-docs/stable/indexing.html#indexing-view-versus-copy\n",
      "  \"\"\"\n",
      "C:\\Users\\HP\\Anaconda3\\lib\\site-packages\\ipykernel_launcher.py:6: SettingWithCopyWarning: \n",
      "A value is trying to be set on a copy of a slice from a DataFrame.\n",
      "Try using .loc[row_indexer,col_indexer] = value instead\n",
      "\n",
      "See the caveats in the documentation: http://pandas.pydata.org/pandas-docs/stable/indexing.html#indexing-view-versus-copy\n",
      "  \n"
     ]
    }
   ],
   "source": [
    "\n",
    "r6 = pd.merge(pf12,r5,left_on='Team',right_on='Name',how='outer')\n",
    "\n",
    "r7 = r6[['Team','Matches','Matches played','Tackle points']]\n",
    "\n",
    "r7['Matches left'] = r7['Matches'] - r7['Matches played']\n",
    "r7['expected Tackle points'] = (r7['Tackle points'] * r7['Matches left']) / r7['Matches played']\n",
    "\n",
    "r7['Total Tackle Points'] = r7['Tackle points'] + r7['expected Tackle points']\n",
    "\n",
    "max_Tackle_pts = r7['Total Tackle Points'].max()\n",
    "i = r7[r7['Total Tackle Points'] == max_Tackle_pts].index[0]\n",
    "\n",
    "r8 = r7.at[i,'Team']"
   ]
  },
  {
   "cell_type": "code",
   "execution_count": 43,
   "metadata": {},
   "outputs": [
    {
     "data": {
      "text/plain": [
       "'Haryana Steelers'"
      ]
     },
     "execution_count": 43,
     "metadata": {},
     "output_type": "execute_result"
    }
   ],
   "source": [
    "r8"
   ]
  },
  {
   "cell_type": "code",
   "execution_count": 44,
   "metadata": {},
   "outputs": [
    {
     "data": {
      "image/png": "[encoded data removed]",
      "text/plain": [
       "<Figure size 1600x800 with 1 Axes>"
      ]
     },
     "metadata": {},
     "output_type": "display_data"
    }
   ],
   "source": [
    "plt.figure(num=None, figsize=(20, 10), dpi=80, facecolor='w', edgecolor='k')\n",
    "plt.bar(r7['Team'], r7['Total Tackle Points'])\n",
    "plt.xticks(rotation='vertical')\n",
    "plt.title('Prediction of Team with Highest tackle points')\n",
    "plt.xlabel('Teams')\n",
    "plt.ylabel('Tackle Points')\n",
    "plt.show()"
   ]
  },
  {
   "cell_type": "markdown",
   "metadata": {},
   "source": [
    "# Haryana Steelers will score Highest Tackle points in this season"
   ]
  },
  {
   "cell_type": "code",
   "execution_count": 45,
   "metadata": {},
   "outputs": [],
   "source": [
    "#Predict the team with the highest super-performance total\n",
    "r13 = pd.merge(r9,r10,on='Name',how='outer')\n",
    "r14 = pd.merge(r11,r12,on='Name',how='outer')\n",
    "r15 = pd.merge(r13,r14,on='Name',how='outer')"
   ]
  },
  {
   "cell_type": "code",
   "execution_count": 46,
   "metadata": {},
   "outputs": [],
   "source": [
    "r16 = r15[['Name','Matches played_x_x','Super raid','Super tackles','All-outs inflicted','All-outs conceded']]"
   ]
  },
  {
   "cell_type": "code",
   "execution_count": 47,
   "metadata": {},
   "outputs": [],
   "source": [
    "r16 = r16.rename(columns = {\"Matches played_x_x\": \"Matches played\"}) "
   ]
  },
  {
   "cell_type": "code",
   "execution_count": 48,
   "metadata": {},
   "outputs": [],
   "source": [
    "r16.replace(to_replace =\"Gujarat Fortunegiants\", \n",
    "                 value =\"Gujarat Fortune Giants\",inplace=True) \n"
   ]
  },
  {
   "cell_type": "raw",
   "metadata": {},
   "source": [
    "The super performance total (S.P.T.) of a team is expressed as:\n",
    "\n",
    "S.P.T. = Total number of super-raids in the tournament + \n",
    "total number of super-tackles in the tournament + \n",
    "total number of all-outs inflicted in the tournament - \n",
    "total number of all-outs conceded in the tournament"
   ]
  },
  {
   "cell_type": "code",
   "execution_count": 49,
   "metadata": {},
   "outputs": [],
   "source": [
    "r16['SPT'] = r16['Super raid'] + r16['Super tackles'] + r16['All-outs inflicted'] - r16[\"All-outs conceded\"]"
   ]
  },
  {
   "cell_type": "code",
   "execution_count": 50,
   "metadata": {},
   "outputs": [],
   "source": [
    "r17 = r16[['Name','Matches played','SPT']]"
   ]
  },
  {
   "cell_type": "code",
   "execution_count": 51,
   "metadata": {},
   "outputs": [
    {
     "name": "stderr",
     "output_type": "stream",
     "text": [
      "C:\\Users\\HP\\Anaconda3\\lib\\site-packages\\ipykernel_launcher.py:5: SettingWithCopyWarning: \n",
      "A value is trying to be set on a copy of a slice from a DataFrame.\n",
      "Try using .loc[row_indexer,col_indexer] = value instead\n",
      "\n",
      "See the caveats in the documentation: http://pandas.pydata.org/pandas-docs/stable/indexing.html#indexing-view-versus-copy\n",
      "  \"\"\"\n",
      "C:\\Users\\HP\\Anaconda3\\lib\\site-packages\\ipykernel_launcher.py:6: SettingWithCopyWarning: \n",
      "A value is trying to be set on a copy of a slice from a DataFrame.\n",
      "Try using .loc[row_indexer,col_indexer] = value instead\n",
      "\n",
      "See the caveats in the documentation: http://pandas.pydata.org/pandas-docs/stable/indexing.html#indexing-view-versus-copy\n",
      "  \n"
     ]
    }
   ],
   "source": [
    "\n",
    "r18 = pd.merge(pf12,r17,left_on='Team',right_on='Name',how='outer')\n",
    "\n",
    "r19 = r18[['Name','Matches','Matches played','SPT']]\n",
    "\n",
    "r19['Matches left'] = r19['Matches'] - r19['Matches played']\n",
    "r19['expected SPT'] = (r19['SPT'] * r19['Matches left']) / r19['Matches played']\n",
    "\n",
    "r19['Total SPT'] = r19['SPT'] + r19['expected SPT']\n",
    "\n",
    "max_SPT = r19['Total SPT'].max()\n",
    "i = r19[r19['Total SPT'] == max_SPT].index[0]\n",
    "\n",
    "r20 = r19.at[i,'Name']"
   ]
  },
  {
   "cell_type": "code",
   "execution_count": 52,
   "metadata": {},
   "outputs": [
    {
     "data": {
      "text/plain": [
       "'Bengal Warriors'"
      ]
     },
     "execution_count": 52,
     "metadata": {},
     "output_type": "execute_result"
    }
   ],
   "source": [
    "r20"
   ]
  },
  {
   "cell_type": "code",
   "execution_count": 53,
   "metadata": {},
   "outputs": [
    {
     "data": {
      "image/png": "[encoded data removed]",
      "text/plain": [
       "<Figure size 1600x800 with 1 Axes>"
      ]
     },
     "metadata": {},
     "output_type": "display_data"
    }
   ],
   "source": [
    "plt.figure(num=None, figsize=(20, 10), dpi=80, facecolor='w', edgecolor='k')\n",
    "plt.bar(r19['Name'], r19['SPT'])\n",
    "plt.xticks(rotation='vertical')\n",
    "plt.title('Prediction of Team with Highest Super Performance Total points')\n",
    "plt.xlabel('Teams')\n",
    "plt.ylabel('Super Performance Total Points')\n",
    "plt.show()"
   ]
  },
  {
   "cell_type": "markdown",
   "metadata": {},
   "source": [
    "# Bengal warriors will score the Higher Super Performance Total"
   ]
  },
  {
   "cell_type": "code",
   "execution_count": 54,
   "metadata": {},
   "outputs": [],
   "source": [
    "#Predict the player with the highest SUCCESSFUL RAID percentage"
   ]
  },
  {
   "cell_type": "code",
   "execution_count": 55,
   "metadata": {},
   "outputs": [
    {
     "data": {
      "text/plain": [
       "'Pawan Kumar Sehrawat'"
      ]
     },
     "execution_count": 55,
     "metadata": {},
     "output_type": "execute_result"
    }
   ],
   "source": [
    "r21['Successful raids %'] = 100 * r21['Successful raids'] / r21['Total raids']\n",
    "max_rpct = r21['Successful raids %'].max()\n",
    "i = r21[r21['Successful raids %'] == max_rpct].index[0]\n",
    "\n",
    "r22 = r21.at[i,'Name']\n",
    "r22"
   ]
  },
  {
   "cell_type": "code",
   "execution_count": 56,
   "metadata": {},
   "outputs": [
    {
     "data": {
      "image/png": "[encoded data removed]",
      "text/plain": [
       "<Figure size 1600x800 with 1 Axes>"
      ]
     },
     "metadata": {},
     "output_type": "display_data"
    }
   ],
   "source": [
    "plt.figure(num=None, figsize=(20, 10), dpi=80, facecolor='w', edgecolor='k')\n",
    "plt.bar(r21['Name'], r21['Successful raids %'])\n",
    "plt.xticks(rotation='vertical')\n",
    "plt.title('Prediction of Player with Highest Successful raids %')\n",
    "plt.xlabel('Players')\n",
    "plt.ylabel('Successful raids %')\n",
    "plt.show()"
   ]
  },
  {
   "cell_type": "markdown",
   "metadata": {},
   "source": [
    "# Pawan Kumar Sehrawat is the player with the highest SUCCESSFUL RAID percentage"
   ]
  },
  {
   "cell_type": "code",
   "execution_count": 57,
   "metadata": {},
   "outputs": [],
   "source": [
    "r23['Successful tackles %'] = 100 * r23['Successful tackles'] / r23['Total tackles']\n",
    "max_rpct = r23['Successful tackles %'].max()\n",
    "i = r23[r23['Successful tackles %'] == max_rpct].index[0]\n",
    "r24 = r23.at[i,'Name']"
   ]
  },
  {
   "cell_type": "code",
   "execution_count": 58,
   "metadata": {},
   "outputs": [
    {
     "data": {
      "text/plain": [
       "'Fazel Atrachali'"
      ]
     },
     "execution_count": 58,
     "metadata": {},
     "output_type": "execute_result"
    }
   ],
   "source": [
    "r24"
   ]
  },
  {
   "cell_type": "code",
   "execution_count": 59,
   "metadata": {},
   "outputs": [
    {
     "data": {
      "image/png": "[encoded data removed]",
      "text/plain": [
       "<Figure size 1600x800 with 1 Axes>"
      ]
     },
     "metadata": {},
     "output_type": "display_data"
    }
   ],
   "source": [
    "plt.figure(num=None, figsize=(20, 10), dpi=80, facecolor='w', edgecolor='k')\n",
    "plt.bar(r23['Name'], r23['Successful tackles %'])\n",
    "plt.xticks(rotation='vertical')\n",
    "plt.title('Prediction of Player with Highest Successful tackles %')\n",
    "plt.xlabel('Players')\n",
    "plt.ylabel('Successful tackles %')\n",
    "plt.show()"
   ]
  },
  {
   "cell_type": "markdown",
   "metadata": {},
   "source": [
    "# Fazel Atrachali is the player with the highest SUCCESSFUL RAID percentage"
   ]
  },
  {
   "cell_type": "code",
   "execution_count": null,
   "metadata": {},
   "outputs": [],
   "source": []
  }
 ],
 "metadata": {
  "kernelspec": {
   "display_name": "Python 3",
   "language": "python",
   "name": "python3"
  },
  "language_info": {
   "codemirror_mode": {
    "name": "ipython",
    "version": 3
   },
   "file_extension": ".py",
   "mimetype": "text/x-python",
   "name": "python",
   "nbconvert_exporter": "python",
   "pygments_lexer": "ipython3",
   "version": "3.7.3"
  }
 },
 "nbformat": 4,
 "nbformat_minor": 2
}
